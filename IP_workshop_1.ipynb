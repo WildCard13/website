{
  "nbformat": 4,
  "nbformat_minor": 0,
  "metadata": {
    "colab": {
      "name": " IP workshop_1.ipynb",
      "provenance": [],
      "collapsed_sections": [],
      "authorship_tag": "ABX9TyPeblRLZbtf1MY9U9kuMJkT",
      "include_colab_link": true
    },
    "kernelspec": {
      "name": "python3",
      "display_name": "Python 3"
    }
  },
  "cells": [
    {
      "cell_type": "markdown",
      "metadata": {
        "id": "view-in-github",
        "colab_type": "text"
      },
      "source": [
        "<a href=\"https://colab.research.google.com/github/WildCard13/website/blob/master/IP_workshop_1.ipynb\" target=\"_parent\"><img src=\"https://colab.research.google.com/assets/colab-badge.svg\" alt=\"Open In Colab\"/></a>"
      ]
    },
    {
      "cell_type": "markdown",
      "metadata": {
        "id": "e5b4QLW0MmpB"
      },
      "source": [
        "# <b>Introduction To Python programming</b>  <img src=\"https://i.ytimg.com/vi/1Q3XHR0nsc4/maxresdefault.jpg\" width= \"110\" height=\"75\" align=\"right\" style=\"float:right;margin: auto;\" >"
      ]
    },
    {
      "cell_type": "markdown",
      "metadata": {
        "id": "ShSSGhykM9GB"
      },
      "source": [
        "## <b>What is Python?</b>\r\n",
        "* Python is an easy to learn, powerful programming language. It has efficient high-level data structures and a simple but effective approach to **object-oriented programming.**\r\n",
        "* Python’s elegant syntax and dynamic typing, together with its interpreted nature, make it an ideal language for **scripting** and **rapid application development** in many areas on most platforms.\r\n",
        "* The **Python interpreter** and the extensive standard library are freely available in source or binary form for all major platforms.\r\n",
        "* The versatile applications for which python is used are **Robotics**, Web Scripting, Artificial Intelligence, Data Analysis, **Machine Learning** and **Image Processing.**\r\n",
        "\r\n",
        "\r\n",
        "\r\n"
      ]
    },
    {
      "cell_type": "markdown",
      "metadata": {
        "id": "FIoMd4QYRqFm"
      },
      "source": [
        "## <b>Let's dive into some fundamentals of Python 3</b>\r\n",
        "* Python is a very simple language and has a very straightforward syntax.\r\n",
        "* The simplest directive in Python is the \"**print**\" directive - it simply prints out a line (and also includes a newline, unlike in C).\r\n",
        "\r\n",
        "### <u>The Print function:"
      ]
    },
    {
      "cell_type": "code",
      "metadata": {
        "colab": {
          "base_uri": "https://localhost:8080/"
        },
        "id": "TxEfVGCPTAc_",
        "outputId": "5e54d266-87da-4f3e-e18b-0331f328cbcb"
      },
      "source": [
        "print(\"Hello,world!\")"
      ],
      "execution_count": null,
      "outputs": [
        {
          "output_type": "stream",
          "text": [
            "Hello,world!\n"
          ],
          "name": "stdout"
        }
      ]
    },
    {
      "cell_type": "code",
      "metadata": {
        "colab": {
          "base_uri": "https://localhost:8080/"
        },
        "id": "A1AieF1WTHnX",
        "outputId": "40b7015f-f620-438a-a828-6911001b31f3"
      },
      "source": [
        "myString = \"Welcome to python introductary session by Robocell,CCA \"\r\n",
        "print(myString)"
      ],
      "execution_count": null,
      "outputs": [
        {
          "output_type": "stream",
          "text": [
            "Welcome to python introductary session by Robocell,CCA \n"
          ],
          "name": "stdout"
        }
      ]
    },
    {
      "cell_type": "markdown",
      "metadata": {
        "id": "BVQ5WPWoTZft"
      },
      "source": [
        "* For taking input from the user, Python provides the function **input()**. The input of the user will be returned as a string without any changes and assigned to a variable.\r\n",
        "* A we can add two varibles we can add **two or more strings** using the \"**+**\" operater,it is known as **concatenation of strings**.<br>\r\n",
        "Lets take an example: \r\n"
      ]
    },
    {
      "cell_type": "code",
      "metadata": {
        "colab": {
          "base_uri": "https://localhost:8080/"
        },
        "id": "rPs4j1TGT1TD",
        "outputId": "6934108f-5988-479f-9188-6350c7f09329"
      },
      "source": [
        "name = input(\"Enter your name:\")\r\n",
        "age =int(input(\"Enter your age:\"))\r\n",
        "print(\"My name is\"+\" \"+name+\".\"+\"I am \"+str(age)+\" years old.\")"
      ],
      "execution_count": null,
      "outputs": [
        {
          "output_type": "stream",
          "text": [
            "Enter your name:Adam\n",
            "Enter your age:24\n",
            "My name is Adam.I am 24 years old.\n"
          ],
          "name": "stdout"
        }
      ]
    },
    {
      "cell_type": "markdown",
      "metadata": {
        "id": "HoPXJ_JyWupo"
      },
      "source": [
        "### <u>Indentation In Python:</u>\r\n",
        "* Python uses **indentation for blocks**, instead of curly braces. For example, the following code: \r\n"
      ]
    },
    {
      "cell_type": "code",
      "metadata": {
        "colab": {
          "base_uri": "https://localhost:8080/"
        },
        "id": "X4YxvnUEXHyC",
        "outputId": "1fbc62f2-fc82-4e7f-f6e8-e1dfeafda1d9"
      },
      "source": [
        "x=1\r\n",
        "if(x==1):\r\n",
        "  #indent four spaces\r\n",
        "  print(\"x equals 1\")\r\n",
        "  #more lines of code may follow"
      ],
      "execution_count": null,
      "outputs": [
        {
          "output_type": "stream",
          "text": [
            "x equals 1\n"
          ],
          "name": "stdout"
        }
      ]
    },
    {
      "cell_type": "markdown",
      "metadata": {
        "id": "JwiGLNHiOtg-"
      },
      "source": [
        "### <u>Variables and Data Types:</u>\r\n",
        "* You do not need to declare variables in Python before using them, or declare their type.\r\n",
        "* **Every variable in Python is an object and each data type is a class**.<br>\r\n",
        "   Let's understand by an example\r\n",
        "\r\n",
        "\r\n",
        "   \r\n",
        "\r\n"
      ]
    },
    {
      "cell_type": "code",
      "metadata": {
        "colab": {
          "base_uri": "https://localhost:8080/"
        },
        "id": "Igmx9ixoQUh7",
        "outputId": "6d4e6ee7-ddeb-4929-9e60-7ff08bc6586f"
      },
      "source": [
        " x=5        #x is an integer variable having a value 5\r\n",
        " y=7.2      #y is a float point variable having value 7.2\r\n",
        " z=\"Welcome to python introductary session by Robocell,CCA \" #z string variable containing a text\r\n",
        "print(x,y,z)"
      ],
      "execution_count": null,
      "outputs": [
        {
          "output_type": "stream",
          "text": [
            "5 7.2 Welcome to python introductary session by Robocell,CCA \n"
          ],
          "name": "stdout"
        }
      ]
    },
    {
      "cell_type": "markdown",
      "metadata": {
        "id": "6iE6Z8eSZc1H"
      },
      "source": [
        "* Assignments can be done on more than one variable simultaneously on the same line like this:"
      ]
    },
    {
      "cell_type": "code",
      "metadata": {
        "colab": {
          "base_uri": "https://localhost:8080/"
        },
        "id": "Oq8rQMM_Zj9q",
        "outputId": "d6b56b12-abc5-4588-d0fc-84c544320b0d"
      },
      "source": [
        "a,b = 3,4   #assigns values 3 and 4 to 'a' and 'b' respectively. \r\n",
        "print(a,b)"
      ],
      "execution_count": null,
      "outputs": [
        {
          "output_type": "stream",
          "text": [
            "3 4\n"
          ],
          "name": "stdout"
        }
      ]
    },
    {
      "cell_type": "markdown",
      "metadata": {
        "id": "Orq59T4vZ8aw"
      },
      "source": [
        "### <u>The Type keyword:</u>\r\n",
        "* Python has a **built-in method** called as type which generally comes in handy while figuring out the **type of variable** used in the program.\r\n",
        "* If a single argument (object) is passed to **type()** built-in, it returns type of the given object.\r\n",
        "*  **The syntax is: type(object)**<br>\r\n",
        "For example:\r\n"
      ]
    },
    {
      "cell_type": "code",
      "metadata": {
        "colab": {
          "base_uri": "https://localhost:8080/"
        },
        "id": "BiiTXWZsaa_B",
        "outputId": "63bf4728-3ce3-413b-91d4-3cfcf92e4854"
      },
      "source": [
        "x=7          \r\n",
        "y=9.3\r\n",
        "z=\"Robocell,CCA\"\r\n",
        "w=True\r\n",
        "print(type(x))    # type of variable is an integer.\r\n",
        "print(type(y))    # type of variable is float.\r\n",
        "print(type(z))    # type of variable is a string.\r\n",
        "print(type(w))    #type of variable is boolean."
      ],
      "execution_count": null,
      "outputs": [
        {
          "output_type": "stream",
          "text": [
            "<class 'int'>\n",
            "<class 'float'>\n",
            "<class 'str'>\n",
            "<class 'bool'>\n"
          ],
          "name": "stdout"
        }
      ]
    },
    {
      "cell_type": "markdown",
      "metadata": {
        "id": "AODy_OyKbq_P"
      },
      "source": [
        "### <u>Python Lists:</u>\r\n",
        "* Lists are just like the **arrays** declared in other languages.\r\n",
        "* However, they differ from arrays in the sense that a single list may contain varying elements like integers, strings, objects and even other lists!\r\n",
        "* Lists are **mutable**, and hence, they can be **altered even after their creation**.\r\n",
        "* Elements can be added to a list by using the built-in **append()** method.<br>\r\n",
        "For example:<br>\r\n",
        "\t**mylist = [ ]**   #creates new list object with name ‘mylist’<br>\r\n",
        "\tmylist.append(1)  // [1]<br> \r\n",
        "\tmylist.append(“hello”)  //[ 1,'hello' ] <br>\r\n",
        "\tprint(mylist[0]) // prints 1<br>\r\n",
        "\tprint(mylist[1]) // prints hello<br>\r\n",
        "\r\n"
      ]
    },
    {
      "cell_type": "code",
      "metadata": {
        "colab": {
          "base_uri": "https://localhost:8080/"
        },
        "id": "28902byadeIB",
        "outputId": "a01e7f9e-08db-4d8a-ecf6-91685fd7740b"
      },
      "source": [
        "mylist=[]\r\n",
        "mylist.append(1)\r\n",
        "mylist.append(True)\r\n",
        "mylist.append(\"Hello\")\r\n",
        "print(mylist)\r\n",
        "print(mylist[1])\r\n",
        "print(type(mylist[1]))"
      ],
      "execution_count": null,
      "outputs": [
        {
          "output_type": "stream",
          "text": [
            "[1, True, 'Hello']\n",
            "True\n",
            "<class 'bool'>\n"
          ],
          "name": "stdout"
        }
      ]
    },
    {
      "cell_type": "markdown",
      "metadata": {
        "id": "CtM1VaDEg1Uv"
      },
      "source": [
        "### <u>Operation in Python Lists:</u>\r\n",
        "* In Lists, we can access a specific range of elements from the lists by using the Slice operation. To print elements within a range, we use **[Start Index : End Index : Step]** and to print whole List in **reverse order**, use **[ : : -1]**.<br>\r\n",
        "* The **Start index** is included but the **End Index** is excluded.<br>\r\n",
        "Let us take an example:"
      ]
    },
    {
      "cell_type": "code",
      "metadata": {
        "colab": {
          "base_uri": "https://localhost:8080/"
        },
        "id": "8iUVU6_qhUZ8",
        "outputId": "70c73042-00b3-46b8-c18d-140303db098a"
      },
      "source": [
        "#let us consider a list of squares of first 5 natural numbers.\r\n",
        "sq=[1,4,9,16,25] #reverse indexing starts from -1\r\n",
        "print(sq[-1])\r\n",
        "print(sq[0:5:2]) #prints in step of 2\r\n",
        "print(sq[::-1])"
      ],
      "execution_count": null,
      "outputs": [
        {
          "output_type": "stream",
          "text": [
            "25\n",
            "[1, 9, 25]\n",
            "[25, 16, 9, 4, 1]\n"
          ],
          "name": "stdout"
        }
      ]
    },
    {
      "cell_type": "markdown",
      "metadata": {
        "id": "PkAr46GMik7W"
      },
      "source": [
        "###<u>Tuples and Dictionaries:</u>\r\n",
        "* <font color=blue> Tuples:</font>\r\n",
        " * A tuple consists of a number of **ordered values** separated by commas. Tuples are enclosed in round brackets.\r\n",
        "\r\n",
        " * Tuple elements can be accessed just like lists by using the index of the element. However, **tuples do not like to be changed.**\r\n",
        "\r\n",
        "* <font color=blue>Dictionaries:</font>\r\n",
        " * It is best to think of a dictionary as a set of **key: value pairs**, with the requirement that the keys are unique (within one dictionary). \r\n",
        " * Dictionaries must have **unique keys.**\r\n",
        " * A pair of curly braces creates an **empty dictionary**. \r\n"
      ]
    },
    {
      "cell_type": "code",
      "metadata": {
        "colab": {
          "base_uri": "https://localhost:8080/"
        },
        "id": "-bgLgFJWj8_Y",
        "outputId": "c903a0c9-d317-44c4-93a2-ec9b877ef299"
      },
      "source": [
        "t=(21,True,\"Hello!\")\r\n",
        "#t[1]=False\r\n",
        "print(t)\r\n",
        "print(t[1])"
      ],
      "execution_count": null,
      "outputs": [
        {
          "output_type": "stream",
          "text": [
            "(21, True, 'Hello!')\n",
            "True\n"
          ],
          "name": "stdout"
        }
      ]
    },
    {
      "cell_type": "code",
      "metadata": {
        "colab": {
          "base_uri": "https://localhost:8080/"
        },
        "id": "2eYBNnPkk0W-",
        "outputId": "d518dd94-7ae3-4ff4-c9fe-9cae5d10b15d"
      },
      "source": [
        "months={\r\n",
        "    1:\"January\",\r\n",
        "    2:\"February\",\r\n",
        "    3:\"March\",\r\n",
        "    4:\"April\",\r\n",
        "    5:\"May\",\r\n",
        "}\r\n",
        "print(months)\r\n",
        "print(months[1]) # Gives the value corresponding to key'1'.\r\n",
        "#print(months[7])"
      ],
      "execution_count": null,
      "outputs": [
        {
          "output_type": "stream",
          "text": [
            "{1: 'January', 2: 'February', 3: 'March', 4: 'April', 5: 'May'}\n",
            "January\n"
          ],
          "name": "stdout"
        }
      ]
    },
    {
      "cell_type": "markdown",
      "metadata": {
        "id": "gBHRQl9XoVCk"
      },
      "source": [
        "###<u>Conditional Statements in Python:</u>\r\n",
        "* Python uses an *if…elif…else sequence* to transfer the control of the program based on a conditional statement. \r\n",
        "* A conditional block can have **zero or more ‘elif’ parts and the else part is optional**.\r\n",
        "\r\n"
      ]
    },
    {
      "cell_type": "code",
      "metadata": {
        "colab": {
          "base_uri": "https://localhost:8080/"
        },
        "id": "i1Ga5pIfozfO",
        "outputId": "f7d15122-b978-4616-9b83-be33ea5bce94"
      },
      "source": [
        "x=int(input(\"Enter a number:\"))\r\n",
        "if(x<0):\r\n",
        "  x=0\r\n",
        "  print(\"Negative number changed to zero\")\r\n",
        "elif(x==0):\r\n",
        "  print(\"Zero\")\r\n",
        "elif(x==1):\r\n",
        "  print(\"One\")\r\n",
        "else:\r\n",
        "  print(\"More\")    \r\n"
      ],
      "execution_count": null,
      "outputs": [
        {
          "output_type": "stream",
          "text": [
            "Enter a number:6\n",
            "More\n"
          ],
          "name": "stdout"
        }
      ]
    },
    {
      "cell_type": "markdown",
      "metadata": {
        "id": "tgiCqvVWpquT"
      },
      "source": [
        "###<u>Loops in Python:</u>\r\n",
        "* Loops are programming constructs that are used to iterate over a particular block of statements for a certain finite number of times or based on a condition.\r\n",
        "* Python supports two main looping constructs: **the for loop** and **the while loop**.\r\n",
        "* Loop statements may have an **else clause**; it is executed when the loop terminates through exhaustion of the list (with for) or when the condition becomes false (with while), but not when the loop is terminated by a break statement"
      ]
    },
    {
      "cell_type": "markdown",
      "metadata": {
        "id": "VjCAazXSrdQZ"
      },
      "source": [
        "![pc_1.png](data:image/png;base64,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)"
      ]
    },
    {
      "cell_type": "markdown",
      "metadata": {
        "id": "4mf8V2A7sYZE"
      },
      "source": [
        "###<u>For loop in Python:</u>\r\n",
        "* Python’s for statement iterates over the items of any sequence (a list or a string), in the order that they appear in the sequence. \r\n",
        "* If you need to iterate over a sequence of numbers, the built-in function **range()** comes in handy. This function generates arithmetic progressions.\r\n",
        "* The syntax is: **range(start, end, step)**"
      ]
    },
    {
      "cell_type": "code",
      "metadata": {
        "colab": {
          "base_uri": "https://localhost:8080/"
        },
        "id": "5i6HlgZ7tHA0",
        "outputId": "c6b42670-418e-4184-9e6d-7514834aa8b3"
      },
      "source": [
        "prime=[2,3,5,7]\r\n",
        "for x in prime:\r\n",
        "  print(x)"
      ],
      "execution_count": null,
      "outputs": [
        {
          "output_type": "stream",
          "text": [
            "2\n",
            "3\n",
            "5\n",
            "7\n"
          ],
          "name": "stdout"
        }
      ]
    },
    {
      "cell_type": "code",
      "metadata": {
        "colab": {
          "base_uri": "https://localhost:8080/"
        },
        "id": "eIuQUagHtfVI",
        "outputId": "19d8c51d-3150-4d6b-cc95-c09af5a160f2"
      },
      "source": [
        "for x in range(0,10,2):\r\n",
        "  print(x)"
      ],
      "execution_count": null,
      "outputs": [
        {
          "output_type": "stream",
          "text": [
            "0\n",
            "2\n",
            "4\n",
            "6\n",
            "8\n"
          ],
          "name": "stdout"
        }
      ]
    },
    {
      "cell_type": "markdown",
      "metadata": {
        "id": "niOinJmyt20o"
      },
      "source": [
        "###<u>While Loop in python:</u>\r\n",
        "* The **while statement** is used for repeated execution as long as a Boolean expression is **true**.\r\n",
        "* It repeatedly tests the expression and, if it is **true**, executes the **first block** of statements.\r\n"
      ]
    },
    {
      "cell_type": "code",
      "metadata": {
        "colab": {
          "base_uri": "https://localhost:8080/"
        },
        "id": "HlgRmocCuTGQ",
        "outputId": "aacc5729-92aa-43f4-f686-7bb806a23388"
      },
      "source": [
        "count = 0\r\n",
        "while count < 5:    #This program prints numbers 0, 1, 2, 3, 4\r\n",
        "\tprint(count)    \r\n",
        "\tcount += 1"
      ],
      "execution_count": null,
      "outputs": [
        {
          "output_type": "stream",
          "text": [
            "0\n",
            "1\n",
            "2\n",
            "3\n",
            "4\n"
          ],
          "name": "stdout"
        }
      ]
    },
    {
      "cell_type": "markdown",
      "metadata": {
        "id": "cnaT-eUZusdA"
      },
      "source": [
        "###<u>Functions in Python:</u>\r\n",
        "* **Functions** are a convenient way to divide our code into useful blocks, make it more **readable**, **reuse it** and **save some time**. \r\n",
        "* The keyword **def** introduces a **function definition**. It must be followed by the function name and the parenthesized list of formal parameters. \r\n",
        "* Functions can be **called by simply writing the function's name followed by ()**, placing any required arguments within the brackets. "
      ]
    },
    {
      "cell_type": "code",
      "metadata": {
        "colab": {
          "base_uri": "https://localhost:8080/"
        },
        "id": "QDv_cwQvv0mD",
        "outputId": "5193759c-ea8c-48aa-ce0a-e77b46da36cc"
      },
      "source": [
        "def sum (a,b):  \r\n",
        "\treturn a + b\r\n",
        "\r\n",
        "\r\n",
        "sum(4,7)  #calling the function sum\r\n",
        "\r\n",
        "\r\n"
      ],
      "execution_count": null,
      "outputs": [
        {
          "output_type": "execute_result",
          "data": {
            "text/plain": [
              "11"
            ]
          },
          "metadata": {
            "tags": []
          },
          "execution_count": 52
        }
      ]
    },
    {
      "cell_type": "markdown",
      "metadata": {
        "id": "waUo0VbW121e"
      },
      "source": [
        "###<u>Classes and Objects in Python:</u>\r\n",
        "\r\n",
        "* Classes are essentially **templates** to create your objects. They define the **basic structure** of the objects.\r\n",
        "* Objects are an **encapsulation of variables and methods** into a single entity. \r\n",
        "* Objects obtain particular **attributes** from the data members of the class while the methods defined in the class dictate the **behavior** of the object.\r\n",
        "* **For example**, a class ‘human’ can be declared to define the characteristics (like name, age, gender, etc.) and behaviors (like talking, walking, eating, etc.) of human beings. **Objects** can later be **instantiated** from this class to describe individuals human beings.\r\n"
      ]
    },
    {
      "cell_type": "markdown",
      "metadata": {
        "id": "-C7QtV962s7A"
      },
      "source": [
        "###<u>Modules in python:</u>\r\n",
        "* In programming, a **module** is a piece of software that has a **specific functionality**. A Python module contains **Python definitions and functions** with a .py file extension. \r\n",
        "* **For example**, when building a ping pong game, one module would be responsible for the game logic, and another module would be responsible for drawing the game on the screen. The main module would then have to import both these modules to have the full functionality."
      ]
    },
    {
      "cell_type": "markdown",
      "metadata": {
        "id": "h5ey0PaJ3PDH"
      },
      "source": [
        "###<u>Importing Modules:</u>\r\n",
        "* Modules are imported from other modules using the import command.\r\n",
        "* Importing modules can be done in different formats:\r\n",
        " 1. **import module_name**\t  #directly imports the module into current script\r\n",
        " 2. from **module_name** import **method_name**  #import specific objects from module\r\n",
        " 3. from **module_name** import <b>*</b>   #import all objects from module \r\n",
        " 4. import **module_name** as **alias**  #import module using an alias / alternate name \r\n",
        "\r\n"
      ]
    },
    {
      "cell_type": "markdown",
      "metadata": {
        "id": "HVFh9U-D4TUF"
      },
      "source": [
        "##<b>The Python Numpy package</b>\r\n",
        "* **NumPy** is a general-purpose **array-processing package**. \r\n",
        "* It provides a **high-performance multidimensional array** object, and tools for working with these arrays.\r\n",
        "* NumPy is the fundamental package for **scientific computing** with Python. \r\n",
        "* Besides its obvious scientific uses, NumPy can also be used as an efficient **multi-dimensional container of generic data**. \r\n",
        "\r\n"
      ]
    },
    {
      "cell_type": "markdown",
      "metadata": {
        "id": "-0G4M-YN5QQQ"
      },
      "source": [
        "###<u>Basic and Important Attributes:</u>\r\n",
        "* NumPy’s main object is the homogeneous multidimensional array. In NumPy dimensions are called axes.\r\n",
        "* NumPy’s array class is called ndarray. It is also known by the alias array.\r\n",
        "*The more important attributes of an ndarray object are:\r\n",
        " * **ndarray.ndim** : the number of axes (dimensions) of the array\r\n",
        " * **ndarray.shape** : tuple of integers indicating the size of the array in each dimension. Ex: ndarray.shape = (3,4) for a array of 3 rows and 4 columns.\r\n",
        " * **ndarray.size** : the total number of elements of the array\r\n",
        " * **ndarray.dtype** : an object describing the type of the elements in the array.  numpy.int32, numpy.int16, and numpy.float64 are some examples.\r\n",
        "\r\n"
      ]
    },
    {
      "cell_type": "code",
      "metadata": {
        "colab": {
          "base_uri": "https://localhost:8080/"
        },
        "id": "MQCX_C9K6BKH",
        "outputId": "b6ada07d-1c8c-4e3a-fd7e-6b97201c299e"
      },
      "source": [
        "import numpy as np\r\n",
        "a=np.arange(15)\r\n",
        "a=np.arange(15).reshape(3,5)\r\n",
        "a\r\n"
      ],
      "execution_count": null,
      "outputs": [
        {
          "output_type": "execute_result",
          "data": {
            "text/plain": [
              "array([[ 0,  1,  2,  3,  4],\n",
              "       [ 5,  6,  7,  8,  9],\n",
              "       [10, 11, 12, 13, 14]])"
            ]
          },
          "metadata": {
            "tags": []
          },
          "execution_count": 74
        }
      ]
    },
    {
      "cell_type": "code",
      "metadata": {
        "colab": {
          "base_uri": "https://localhost:8080/",
          "height": 35
        },
        "id": "AeadP6Fl6tOx",
        "outputId": "492916fe-f237-4def-bbae-e602f39f68e1"
      },
      "source": [
        "a.dtype.name\r\n"
      ],
      "execution_count": null,
      "outputs": [
        {
          "output_type": "execute_result",
          "data": {
            "application/vnd.google.colaboratory.intrinsic+json": {
              "type": "string"
            },
            "text/plain": [
              "'int64'"
            ]
          },
          "metadata": {
            "tags": []
          },
          "execution_count": 76
        }
      ]
    },
    {
      "cell_type": "code",
      "metadata": {
        "colab": {
          "base_uri": "https://localhost:8080/"
        },
        "id": "xoRIsLqF7L80",
        "outputId": "b2b85ab5-ac5c-4029-cb93-1f671952f85a"
      },
      "source": [
        "a.size"
      ],
      "execution_count": null,
      "outputs": [
        {
          "output_type": "execute_result",
          "data": {
            "text/plain": [
              "15"
            ]
          },
          "metadata": {
            "tags": []
          },
          "execution_count": 77
        }
      ]
    },
    {
      "cell_type": "markdown",
      "metadata": {
        "id": "3EljSzQW7ZY1"
      },
      "source": [
        "###<u>Changing the Shape of the Array:</u>\r\n",
        "* An array has a shape given by the number of elements along each axis.\r\n",
        "* The **reshape()** function returns its argument with a modified shape, whereas the **ndarray.resize()** method modifies the array itself."
      ]
    },
    {
      "cell_type": "code",
      "metadata": {
        "colab": {
          "base_uri": "https://localhost:8080/"
        },
        "id": "hxO10Llg71vd",
        "outputId": "681a877f-11b6-43b2-f1b9-12aca9dd7e45"
      },
      "source": [
        "import numpy as np\r\n",
        "a=np.arange(16)\r\n",
        "a=np.arange(16).reshape(4,4)\r\n",
        "a"
      ],
      "execution_count": null,
      "outputs": [
        {
          "output_type": "execute_result",
          "data": {
            "text/plain": [
              "array([[ 0,  1,  2,  3],\n",
              "       [ 4,  5,  6,  7],\n",
              "       [ 8,  9, 10, 11],\n",
              "       [12, 13, 14, 15]])"
            ]
          },
          "metadata": {
            "tags": []
          },
          "execution_count": 83
        }
      ]
    },
    {
      "cell_type": "code",
      "metadata": {
        "colab": {
          "base_uri": "https://localhost:8080/"
        },
        "id": "fhUV99f876or",
        "outputId": "b53f5150-f130-4597-fb6d-43e2d03c0a2c"
      },
      "source": [
        "a.resize((2,8))\r\n",
        "a"
      ],
      "execution_count": null,
      "outputs": [
        {
          "output_type": "execute_result",
          "data": {
            "text/plain": [
              "array([[ 0,  1,  2,  3,  4,  5,  6,  7],\n",
              "       [ 8,  9, 10, 11, 12, 13, 14, 15]])"
            ]
          },
          "metadata": {
            "tags": []
          },
          "execution_count": 84
        }
      ]
    },
    {
      "cell_type": "markdown",
      "metadata": {
        "id": "7-rvlH3G8zku"
      },
      "source": [
        "###<u>Basic Operations in an Array:</u>\r\n",
        "* We can create an array from a regular Python list or tuple using the array function. The type of the resulting array is deduced from the type of the elements in the sequences\r\n",
        "* NumPy offers several functions to create arrays with initial **placeholder content**.\r\n"
      ]
    },
    {
      "cell_type": "code",
      "metadata": {
        "colab": {
          "base_uri": "https://localhost:8080/"
        },
        "id": "_mB4mWka9hVx",
        "outputId": "24a7a580-1773-4b70-8eff-75970d2a8d71"
      },
      "source": [
        "b=np.array([[1,2,3],[4,5,6],[7,8,9]])   #new array b with initial elements\r\n",
        "b"
      ],
      "execution_count": null,
      "outputs": [
        {
          "output_type": "execute_result",
          "data": {
            "text/plain": [
              "array([[1, 2, 3],\n",
              "       [4, 5, 6],\n",
              "       [7, 8, 9]])"
            ]
          },
          "metadata": {
            "tags": []
          },
          "execution_count": 85
        }
      ]
    },
    {
      "cell_type": "code",
      "metadata": {
        "colab": {
          "base_uri": "https://localhost:8080/"
        },
        "id": "eKddfwbk91Jo",
        "outputId": "ed8b2a65-b38d-491a-b672-e6e14d7a8332"
      },
      "source": [
        "zero=np.zeros((3,4))\r\n",
        "zero"
      ],
      "execution_count": null,
      "outputs": [
        {
          "output_type": "execute_result",
          "data": {
            "text/plain": [
              "array([[0., 0., 0., 0.],\n",
              "       [0., 0., 0., 0.],\n",
              "       [0., 0., 0., 0.]])"
            ]
          },
          "metadata": {
            "tags": []
          },
          "execution_count": 86
        }
      ]
    },
    {
      "cell_type": "code",
      "metadata": {
        "colab": {
          "base_uri": "https://localhost:8080/"
        },
        "id": "j2uCG5ZY-GpD",
        "outputId": "03bb0434-9d6b-4f26-8d61-d86a0c7be40e"
      },
      "source": [
        "one=np.ones((4,4))\r\n",
        "one"
      ],
      "execution_count": null,
      "outputs": [
        {
          "output_type": "execute_result",
          "data": {
            "text/plain": [
              "array([[1., 1., 1., 1.],\n",
              "       [1., 1., 1., 1.],\n",
              "       [1., 1., 1., 1.],\n",
              "       [1., 1., 1., 1.]])"
            ]
          },
          "metadata": {
            "tags": []
          },
          "execution_count": 88
        }
      ]
    },
    {
      "cell_type": "code",
      "metadata": {
        "colab": {
          "base_uri": "https://localhost:8080/"
        },
        "id": "aenAGFtq-Ur8",
        "outputId": "dd881a9a-3cad-4332-8781-22c6d7c112bc"
      },
      "source": [
        "arr1=np.array([3,9,2,6])\r\n",
        "arr2=np.arange(4)\r\n",
        "arr3=arr2-arr1\r\n",
        "arr3"
      ],
      "execution_count": null,
      "outputs": [
        {
          "output_type": "execute_result",
          "data": {
            "text/plain": [
              "array([-3, -8,  0, -3])"
            ]
          },
          "metadata": {
            "tags": []
          },
          "execution_count": 91
        }
      ]
    },
    {
      "cell_type": "code",
      "metadata": {
        "colab": {
          "base_uri": "https://localhost:8080/"
        },
        "id": "QXhqzqnB-0E7",
        "outputId": "c0b6e52e-ccaf-4bac-bfe3-dc672a6b816d"
      },
      "source": [
        "sine=np.sin(arr3)\r\n",
        "sine"
      ],
      "execution_count": null,
      "outputs": [
        {
          "output_type": "execute_result",
          "data": {
            "text/plain": [
              "array([-0.14112001, -0.98935825,  0.        , -0.14112001])"
            ]
          },
          "metadata": {
            "tags": []
          },
          "execution_count": 92
        }
      ]
    },
    {
      "cell_type": "code",
      "metadata": {
        "colab": {
          "base_uri": "https://localhost:8080/"
        },
        "id": "DiAusy-b--DM",
        "outputId": "37ddebec-d3eb-43cc-c3f6-8c85d0982f46"
      },
      "source": [
        "sine<-0.5"
      ],
      "execution_count": null,
      "outputs": [
        {
          "output_type": "execute_result",
          "data": {
            "text/plain": [
              "array([False,  True, False, False])"
            ]
          },
          "metadata": {
            "tags": []
          },
          "execution_count": 95
        }
      ]
    },
    {
      "cell_type": "code",
      "metadata": {
        "colab": {
          "base_uri": "https://localhost:8080/"
        },
        "id": "4MwEFNWI_LKE",
        "outputId": "b4507988-c4bc-48b0-832c-199857bf2347"
      },
      "source": [
        "10*sine"
      ],
      "execution_count": null,
      "outputs": [
        {
          "output_type": "execute_result",
          "data": {
            "text/plain": [
              "array([-1.41120008, -9.89358247,  0.        , -1.41120008])"
            ]
          },
          "metadata": {
            "tags": []
          },
          "execution_count": 96
        }
      ]
    },
    {
      "cell_type": "markdown",
      "metadata": {
        "id": "Wt6uq08B_Sdz"
      },
      "source": [
        "###<u>Writing Classes in Python:</u>\r\n",
        "\r\n",
        "\r\n"
      ]
    },
    {
      "cell_type": "code",
      "metadata": {
        "colab": {
          "base_uri": "https://localhost:8080/"
        },
        "id": "xqdvHNUK_t0l",
        "outputId": "a139cfb3-8c3a-43d5-bf3b-3c0f16c8edc1"
      },
      "source": [
        "class Human:    #defining new class Human\r\n",
        "\tname = \"ABC\"    #data member name\r\n",
        "\tdef replyName(self):\t  #member method which \r\n",
        "\t\t\t\t\t\t  #prints the name of object through which it is called\r\n",
        "\t\tprint(\"Person’s name is: %s.\" %self.name)\r\n",
        "a=Human()   #a is an object of Human class\r\n",
        "a.replyName()   #this line calls class method replyName() using object a"
      ],
      "execution_count": null,
      "outputs": [
        {
          "output_type": "stream",
          "text": [
            "Person’s name is: ABC.\n"
          ],
          "name": "stdout"
        }
      ]
    },
    {
      "cell_type": "code",
      "metadata": {
        "colab": {
          "base_uri": "https://localhost:8080/"
        },
        "id": "oiuIcwbgAeYv",
        "outputId": "5fa38573-62bd-4c2d-a79e-97da695cf7cc"
      },
      "source": [
        "b=Human()  #b is another object of Human class\r\n",
        "b.Name=\"XYZ\"  #changing name by accessing name attribute of object b\r\n",
        "b.replyName()  #calling method replyName() using object b"
      ],
      "execution_count": null,
      "outputs": [
        {
          "output_type": "stream",
          "text": [
            "Person’s name is: ABC.\n"
          ],
          "name": "stdout"
        }
      ]
    },
    {
      "cell_type": "markdown",
      "metadata": {
        "id": "WezRTE8FBDXg"
      },
      "source": [
        "###<u>Packages in Python:</u>\r\n",
        "* Packages are **directories** which contain multiple packages and modules together.\r\n",
        "* Each package in Python is a directory which **MUST** contain a special file called __init__.py. \r\n",
        "* If we create a directory called **foo**, which marks the **package name**, we can then create a **module** inside that package called **bar**. \r\n",
        "* To use the module bar, we can import it in two ways:\r\n",
        "* **import foo.bar**\r\n",
        "* **from foo import bar**\r\n",
        "\r\n"
      ]
    },
    {
      "cell_type": "markdown",
      "metadata": {
        "id": "UhUsh2JxBtBF"
      },
      "source": [
        "##<b>There then, we have completed the basics of Python and NumPy! We now have all the necessary weapons to move on to and fully learn and understand Computer Vision and Image Processing… </b>\r\n"
      ]
    }
  ]
}